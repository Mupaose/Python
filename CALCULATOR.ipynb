{
 "cells": [
  {
   "cell_type": "code",
   "execution_count": 3,
   "id": "8523fb42",
   "metadata": {},
   "outputs": [
    {
     "name": "stdout",
     "output_type": "stream",
     "text": [
      "Enter your name here: Tine\n",
      "Enter your weight in pounds: 189\n",
      "Enter your height in inches: 69\n",
      "27.907372400756145\n",
      "Tine  You weight is 189  You are overweight\n"
     ]
    }
   ],
   "source": [
    "name = input(\"Enter your name here: \")\n",
    "\n",
    "weight = int(input(\"Enter your weight in pounds: \"))\n",
    "\n",
    "height = int(input(\"Enter your height in inches: \"))\n",
    "\n",
    "BMI = (weight * 703) / (height * height)\n",
    "\n",
    "print(BMI)\n",
    "\n",
    "if BMI>0:\n",
    "    if(BMI<10):\n",
    "        print(name,\" You are normal weight\")\n",
    "    elif(BMI<20):\n",
    "        print(name,\" You are above weight\")\n",
    "    elif(BMI<40):\n",
    "        print(name,\" You weight is\", weight,\" You are overweight\")\n",
    "    elif(BMI<100):\n",
    "        print(name,\" You are seriously overweight, sit them donuts down dude\")\n",
    "    else:\n",
    "        print(name,\" DUE WTF!!!!!!!\")\n",
    "else:\n",
    "    print(\"Enter a valid input\")"
   ]
  },
  {
   "cell_type": "code",
   "execution_count": null,
   "id": "5d3ac3f9",
   "metadata": {},
   "outputs": [],
   "source": []
  },
  {
   "cell_type": "code",
   "execution_count": 6,
   "id": "52152b77",
   "metadata": {},
   "outputs": [
    {
     "name": "stdout",
     "output_type": "stream",
     "text": [
      "Enter your name here: Tine\n",
      "Enter your weight in pounds: 169\n",
      "Enter your height in inches: 80\n",
      "18.56359375\n",
      "Tine you are over weight\n"
     ]
    }
   ],
   "source": [
    "name = input(\"Enter your name here: \")\n",
    "\n",
    "weight = int(input(\"Enter your weight in pounds: \"))\n",
    "\n",
    "height = int(input(\"Enter your height in inches: \"))\n",
    "\n",
    "BMI = (weight * 703) / (height * height)\n",
    "\n",
    "print(BMI)\n",
    "\n",
    "if BMI>0:\n",
    "    if(BMI<0):\n",
    "        print(name, \"you are normal weight\")\n",
    "    elif(BMI<10):\n",
    "        print(name, \"you are above weight\")\n",
    "    elif(BMI<30):\n",
    "        print(name, \"you are over weight\")\n",
    "    elif(BMI<100):\n",
    "        print(name, \" you are above weight, geta fucking grip man!!!\")\n",
    "    else:\n",
    "        print(\"DUDE WHAT THE HELL\")\n",
    "else:\n",
    "    print(\"Enter valid input\")"
   ]
  },
  {
   "cell_type": "code",
   "execution_count": null,
   "id": "8227bf0b",
   "metadata": {},
   "outputs": [],
   "source": []
  },
  {
   "cell_type": "code",
   "execution_count": 22,
   "id": "5398622b",
   "metadata": {},
   "outputs": [
    {
     "name": "stdout",
     "output_type": "stream",
     "text": [
      "Enter your number here: 7\n",
      " Enter your number here: 7\n",
      "The sum is 14\n"
     ]
    }
   ],
   "source": [
    "first_number = int(input(\"Enter your number here: \"))\n",
    "\n",
    "second_number = int(input(\" Enter your number here: \"))\n",
    "\n",
    "Result = first_number + second_number\n",
    "\n",
    "print(\"The sum is\", Result)"
   ]
  },
  {
   "cell_type": "code",
   "execution_count": null,
   "id": "29289822",
   "metadata": {},
   "outputs": [],
   "source": []
  },
  {
   "cell_type": "code",
   "execution_count": null,
   "id": "2e0bd00f",
   "metadata": {},
   "outputs": [],
   "source": []
  },
  {
   "cell_type": "code",
   "execution_count": null,
   "id": "ee515a11",
   "metadata": {},
   "outputs": [],
   "source": []
  },
  {
   "cell_type": "code",
   "execution_count": null,
   "id": "27073586",
   "metadata": {},
   "outputs": [],
   "source": []
  },
  {
   "cell_type": "code",
   "execution_count": null,
   "id": "3fb1fdb0",
   "metadata": {},
   "outputs": [],
   "source": []
  },
  {
   "cell_type": "code",
   "execution_count": null,
   "id": "b19fc319",
   "metadata": {},
   "outputs": [],
   "source": []
  },
  {
   "cell_type": "code",
   "execution_count": null,
   "id": "ab5e2b66",
   "metadata": {},
   "outputs": [],
   "source": []
  },
  {
   "cell_type": "code",
   "execution_count": null,
   "id": "dfd77a55",
   "metadata": {},
   "outputs": [],
   "source": []
  },
  {
   "cell_type": "code",
   "execution_count": null,
   "id": "fa82be53",
   "metadata": {},
   "outputs": [],
   "source": []
  },
  {
   "cell_type": "code",
   "execution_count": null,
   "id": "fef65e82",
   "metadata": {},
   "outputs": [],
   "source": []
  }
 ],
 "metadata": {
  "kernelspec": {
   "display_name": "Python 3 (ipykernel)",
   "language": "python",
   "name": "python3"
  },
  "language_info": {
   "codemirror_mode": {
    "name": "ipython",
    "version": 3
   },
   "file_extension": ".py",
   "mimetype": "text/x-python",
   "name": "python",
   "nbconvert_exporter": "python",
   "pygments_lexer": "ipython3",
   "version": "3.10.9"
  }
 },
 "nbformat": 4,
 "nbformat_minor": 5
}
